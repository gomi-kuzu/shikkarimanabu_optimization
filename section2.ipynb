{
 "cells": [
  {
   "cell_type": "code",
   "execution_count": 1,
   "metadata": {},
   "outputs": [],
   "source": [
    "import casadi"
   ]
  },
  {
   "cell_type": "markdown",
   "metadata": {},
   "source": [
    "# 例題（式2.35）\n",
    "## Opti stackを使った書き方"
   ]
  },
  {
   "cell_type": "code",
   "execution_count": 2,
   "metadata": {},
   "outputs": [],
   "source": [
    "opti = casadi.Opti()\n",
    "\n",
    "# 変数作成\n",
    "x1 = opti.variable()\n",
    "x2 = opti.variable()\n",
    "x3 = opti.variable()\n",
    "x4 = opti.variable()\n",
    "x5 = opti.variable()"
   ]
  },
  {
   "cell_type": "code",
   "execution_count": 3,
   "metadata": {},
   "outputs": [],
   "source": [
    "opti.minimize(-x1-2*x2) #目的関数(※注意：最大化⇔最小化の変換をしている)"
   ]
  },
  {
   "cell_type": "code",
   "execution_count": 4,
   "metadata": {},
   "outputs": [],
   "source": [
    "# 制約\n",
    "opti.subject_to(x1 >= 0)\n",
    "opti.subject_to(x2 >= 0)\n",
    "opti.subject_to(x3 >= 0)\n",
    "opti.subject_to(x4 >= 0)\n",
    "opti.subject_to(x5 >= 0)\n",
    "opti.subject_to(x1 + x2 + x3 == 6)\n",
    "opti.subject_to(x1 + 3*x2 + x4 == 12)\n",
    "opti.subject_to(2*x1 + x2 + x5 == 10)"
   ]
  },
  {
   "cell_type": "code",
   "execution_count": 5,
   "metadata": {},
   "outputs": [],
   "source": [
    "p_opts = {\"expand\":True}\n",
    "s_opts = {\"max_iter\": 100}\n",
    "opti.solver(\"ipopt\", p_opts, s_opts)"
   ]
  },
  {
   "cell_type": "code",
   "execution_count": 6,
   "metadata": {},
   "outputs": [
    {
     "name": "stdout",
     "output_type": "stream",
     "text": [
      "\n",
      "******************************************************************************\n",
      "This program contains Ipopt, a library for large-scale nonlinear optimization.\n",
      " Ipopt is released as open source code under the Eclipse Public License (EPL).\n",
      "         For more information visit http://projects.coin-or.org/Ipopt\n",
      "******************************************************************************\n",
      "\n",
      "This is Ipopt version 3.12.3, running with linear solver mumps.\n",
      "NOTE: Other linear solvers might be more efficient (see Ipopt documentation).\n",
      "\n",
      "Number of nonzeros in equality constraint Jacobian...:        9\n",
      "Number of nonzeros in inequality constraint Jacobian.:        5\n",
      "Number of nonzeros in Lagrangian Hessian.............:        0\n",
      "\n",
      "Total number of variables............................:        5\n",
      "                     variables with only lower bounds:        0\n",
      "                variables with lower and upper bounds:        0\n",
      "                     variables with only upper bounds:        0\n",
      "Total number of equality constraints.................:        3\n",
      "Total number of inequality constraints...............:        5\n",
      "        inequality constraints with only lower bounds:        5\n",
      "   inequality constraints with lower and upper bounds:        0\n",
      "        inequality constraints with only upper bounds:        0\n",
      "\n",
      "iter    objective    inf_pr   inf_du lg(mu)  ||d||  lg(rg) alpha_du alpha_pr  ls\n",
      "   0 -0.0000000e+00 1.20e+01 2.71e-01  -1.0 0.00e+00    -  0.00e+00 0.00e+00   0\n",
      "   1 -8.5966667e+00 1.78e-15 2.86e+02  -1.0 2.97e+00    -  3.45e-03 1.00e+00f  1\n",
      "   2 -8.7196361e+00 3.55e-15 1.00e-06  -1.0 2.44e-01    -  1.00e+00 1.00e+00f  1\n",
      "   3 -8.9927067e+00 8.88e-16 8.23e-04  -2.5 3.53e-01    -  9.76e-01 1.00e+00f  1\n",
      "   4 -8.9997482e+00 1.78e-15 1.50e-09  -3.8 9.70e-03    -  1.00e+00 1.00e+00f  1\n",
      "   5 -8.9999963e+00 0.00e+00 1.84e-11  -5.7 3.88e-04    -  1.00e+00 1.00e+00f  1\n",
      "   6 -9.0000000e+00 8.88e-16 2.51e-14  -8.6 7.09e-06    -  1.00e+00 1.00e+00f  1\n",
      "\n",
      "Number of Iterations....: 6\n",
      "\n",
      "                                   (scaled)                 (unscaled)\n",
      "Objective...............:  -9.0000000049991531e+00   -9.0000000049991531e+00\n",
      "Dual infeasibility......:   2.5091040356528538e-14    2.5091040356528538e-14\n",
      "Constraint violation....:   8.8817841970012523e-16    8.8817841970012523e-16\n",
      "Complementarity.........:   2.5190695132293220e-09    2.5190695132293220e-09\n",
      "Overall NLP error.......:   2.5190695132293220e-09    2.5190695132293220e-09\n",
      "\n",
      "\n",
      "Number of objective function evaluations             = 7\n",
      "Number of objective gradient evaluations             = 7\n",
      "Number of equality constraint evaluations            = 7\n",
      "Number of inequality constraint evaluations          = 7\n",
      "Number of equality constraint Jacobian evaluations   = 7\n",
      "Number of inequality constraint Jacobian evaluations = 7\n",
      "Number of Lagrangian Hessian evaluations             = 6\n",
      "Total CPU secs in IPOPT (w/o function evaluations)   =      0.007\n",
      "Total CPU secs in NLP function evaluations           =      0.001\n",
      "\n",
      "EXIT: Optimal Solution Found.\n",
      "      solver  :   t_proc      (avg)   t_wall      (avg)    n_eval\n",
      "       nlp_f  |  40.00us (  5.71us)  41.13us (  5.88us)         7\n",
      "       nlp_g  | 102.00us ( 14.57us) 113.48us ( 16.21us)         7\n",
      "  nlp_grad_f  |  38.00us (  4.75us)  36.32us (  4.54us)         8\n",
      "  nlp_hess_l  |  19.00us (  3.17us)  17.53us (  2.92us)         6\n",
      "   nlp_jac_g  |  26.00us (  3.25us)  26.61us (  3.33us)         8\n",
      "       total  |   9.90ms (  9.90ms)   8.39ms (  8.39ms)         1\n"
     ]
    }
   ],
   "source": [
    "sol = opti.solve()"
   ]
  },
  {
   "cell_type": "code",
   "execution_count": 7,
   "metadata": {},
   "outputs": [
    {
     "name": "stdout",
     "output_type": "stream",
     "text": [
      "3.0000000050350324 2.9999999999820606\n"
     ]
    }
   ],
   "source": [
    "print(sol.value(x1), sol.value(x2))"
   ]
  },
  {
   "cell_type": "markdown",
   "metadata": {},
   "source": [
    "- 答えあってるっぽい"
   ]
  },
  {
   "cell_type": "markdown",
   "metadata": {},
   "source": [
    "## Symbolic frameworkを使った書き方\n",
    "- 式2.35を行列表現になおしてみる\n",
    "    - 目的関数:$(1~2~0~0~0)~ \\boldsymbol{x}$\n",
    "    - 制約:\n",
    "$\\left(\n",
    "    \\begin{array}{ccccc}\n",
    "      1 & 1 & 1 & 0 & 0\\\\\n",
    "      1 & 3 & 0 & 1 & 0\\\\\n",
    "      2 & 1 & 0 & 0 & 1\\\\\n",
    "      0 & 0 & 0 & 0 & 0\\\\\n",
    "      0 & 0 & 0 & 0 & 0\n",
    "    \\end{array}\n",
    "  \\right)\\boldsymbol{x}- \\left(\n",
    "    \\begin{array}{c}\n",
    "      6 \\\\\n",
    "      12 \\\\\n",
    "      10 \\\\\n",
    "      0 \\\\\n",
    "      0 \n",
    "    \\end{array}\n",
    "  \\right)=\\boldsymbol{0}$"
   ]
  },
  {
   "cell_type": "code",
   "execution_count": 8,
   "metadata": {},
   "outputs": [],
   "source": [
    "# 行列表現\n",
    "b = [6,12,10,0,0]\n",
    "c = [-1,-2,0,0,0] #問題だと最大化だがソルバーは最小化のみなので-1かける\n",
    "D = [[1,1,1,0,0],[1,3,0,1,0],[2,1,0,0,1],[0,0,0,0,0],[0,0,0,0,0]]"
   ]
  },
  {
   "cell_type": "code",
   "execution_count": 9,
   "metadata": {},
   "outputs": [],
   "source": [
    "x = casadi.SX.sym(\"x\", 5) #代数生成（縦ベクトル）\n",
    "b = casadi.SX(b) # symメソッドを使わないと定数になる \n",
    "c = casadi.SX(c)\n",
    "D = casadi.SX(D) "
   ]
  },
  {
   "cell_type": "code",
   "execution_count": 10,
   "metadata": {},
   "outputs": [],
   "source": [
    "f = casadi.mtimes(c.T, x) # 目的関数　内積\n",
    "g = casadi.mtimes(D,x) - b"
   ]
  },
  {
   "cell_type": "code",
   "execution_count": 11,
   "metadata": {},
   "outputs": [],
   "source": [
    "nlp = {} #変数、目的関数、制約は辞書型で渡す\n",
    "nlp[\"x\"] = x # 複数変数がある場合はcasadi.vertcat()関数を使ってひとつの構造体にする\n",
    "nlp[\"f\"] = f \n",
    "nlp[\"g\"] = g"
   ]
  },
  {
   "cell_type": "code",
   "execution_count": 12,
   "metadata": {},
   "outputs": [],
   "source": [
    "F = casadi.nlpsol(\"F\", \"ipopt\", nlp) # ファンクションとして登録"
   ]
  },
  {
   "cell_type": "code",
   "execution_count": 13,
   "metadata": {},
   "outputs": [
    {
     "name": "stdout",
     "output_type": "stream",
     "text": [
      "This is Ipopt version 3.12.3, running with linear solver mumps.\n",
      "NOTE: Other linear solvers might be more efficient (see Ipopt documentation).\n",
      "\n",
      "Number of nonzeros in equality constraint Jacobian...:        9\n",
      "Number of nonzeros in inequality constraint Jacobian.:        0\n",
      "Number of nonzeros in Lagrangian Hessian.............:        0\n",
      "\n",
      "Total number of variables............................:        5\n",
      "                     variables with only lower bounds:        5\n",
      "                variables with lower and upper bounds:        0\n",
      "                     variables with only upper bounds:        0\n",
      "Total number of equality constraints.................:        5\n",
      "Total number of inequality constraints...............:        0\n",
      "        inequality constraints with only lower bounds:        0\n",
      "   inequality constraints with lower and upper bounds:        0\n",
      "        inequality constraints with only upper bounds:        0\n",
      "\n",
      "iter    objective    inf_pr   inf_du lg(mu)  ||d||  lg(rg) alpha_du alpha_pr  ls\n",
      "   0 -2.9999970e-02 1.20e+01 3.00e+00  -1.0 0.00e+00    -  0.00e+00 0.00e+00   0\n",
      "   1 -8.5966664e+00 6.37e-07 2.86e+02  -1.0 2.96e+00    -  3.45e-03 1.00e+00f  1\n",
      "   2 -8.7196363e+00 6.37e-07 1.00e-06  -1.0 2.44e-01    -  1.00e+00 1.00e+00f  1\n",
      "   3 -8.9927066e+00 3.61e-11 8.23e-04  -2.5 3.53e-01    -  9.76e-01 1.00e+00f  1\n",
      "Cannot recompute multipliers for feasibility problem.  Error in eq_mult_calculator\n",
      "\n",
      "Number of Iterations....: 3\n",
      "\n",
      "                                   (scaled)                 (unscaled)\n",
      "Objective...............:  -8.9927066291972420e+00   -8.9927066291972420e+00\n",
      "Dual infeasibility......:   5.0463446614775342e-01    5.0463446614775342e-01\n",
      "Constraint violation....:   3.6113334545007092e-11    3.6113334545007092e-11\n",
      "Complementarity.........:   0.0000000000000000e+00    0.0000000000000000e+00\n",
      "Overall NLP error.......:   3.6113334545007092e-11    5.0463446614775342e-01\n",
      "\n",
      "\n",
      "Number of objective function evaluations             = 4\n",
      "Number of objective gradient evaluations             = 4\n",
      "Number of equality constraint evaluations            = 4\n",
      "Number of inequality constraint evaluations          = 0\n",
      "Number of equality constraint Jacobian evaluations   = 4\n",
      "Number of inequality constraint Jacobian evaluations = 0\n",
      "Number of Lagrangian Hessian evaluations             = 3\n",
      "Total CPU secs in IPOPT (w/o function evaluations)   =      0.006\n",
      "Total CPU secs in NLP function evaluations           =      0.000\n",
      "\n",
      "EXIT: Optimal Solution Found.\n",
      "           F  :   t_proc      (avg)   t_wall      (avg)    n_eval\n",
      "       nlp_f  |  19.00us (  4.75us)  16.97us (  4.24us)         4\n",
      "       nlp_g  |  59.00us ( 14.75us)  49.10us ( 12.27us)         4\n",
      "  nlp_grad_f  |  34.00us (  6.80us)  31.36us (  6.27us)         5\n",
      "  nlp_hess_l  |  14.00us (  4.67us)  12.99us (  4.33us)         3\n",
      "   nlp_jac_g  |  24.00us (  4.80us)  24.79us (  4.96us)         5\n",
      "       total  |   8.18ms (  8.18ms)   6.73ms (  6.73ms)         1\n"
     ]
    }
   ],
   "source": [
    "sol = F(x0=[0,0,0,0,0],ubg=0,lbg=0, lbx=0)\n",
    "# 引数 x0:変数の初期値、ubg:制約上限＆lbg:制約下限（どっちも0で等式制約）、ubx:変数上限＆lbx:変数下限"
   ]
  },
  {
   "cell_type": "code",
   "execution_count": 14,
   "metadata": {},
   "outputs": [
    {
     "data": {
      "text/plain": [
       "DM([2.9983, 2.9972])"
      ]
     },
     "execution_count": 14,
     "metadata": {},
     "output_type": "execute_result"
    }
   ],
   "source": [
    "sol[\"x\"][:2]"
   ]
  },
  {
   "cell_type": "markdown",
   "metadata": {},
   "source": [
    "- うまくいってるっぽい"
   ]
  },
  {
   "cell_type": "markdown",
   "metadata": {},
   "source": [
    "# 演習問題"
   ]
  },
  {
   "cell_type": "code",
   "execution_count": null,
   "metadata": {},
   "outputs": [],
   "source": []
  }
 ],
 "metadata": {
  "kernelspec": {
   "display_name": "Python 3",
   "language": "python",
   "name": "python3"
  },
  "language_info": {
   "codemirror_mode": {
    "name": "ipython",
    "version": 3
   },
   "file_extension": ".py",
   "mimetype": "text/x-python",
   "name": "python",
   "nbconvert_exporter": "python",
   "pygments_lexer": "ipython3",
   "version": "3.6.5"
  }
 },
 "nbformat": 4,
 "nbformat_minor": 2
}
