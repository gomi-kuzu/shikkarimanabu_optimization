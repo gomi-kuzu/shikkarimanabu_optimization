{
 "cells": [
  {
   "cell_type": "code",
   "execution_count": 1,
   "metadata": {},
   "outputs": [],
   "source": [
    "import casadi\n",
    "import numpy as np"
   ]
  },
  {
   "cell_type": "markdown",
   "metadata": {},
   "source": [
    "# 例１\n",
    "- https://github.com/gomi-kuzu/practice_optimize/blob/master/transport/practice_solver.ipynb\n",
    "- https://qiita.com/gomi-kuzu/items/9a4c5743737fa0731c81"
   ]
  },
  {
   "cell_type": "code",
   "execution_count": 2,
   "metadata": {},
   "outputs": [],
   "source": [
    "#問題設定\n",
    "supry = np.array([10,5,2]) # 倉庫の方の供給\n",
    "demand = np.array([7,10]) # 客の方の需要\n",
    "C = np.array([[1.,2.,3.], [4.,5.,6.]]) "
   ]
  },
  {
   "cell_type": "code",
   "execution_count": 3,
   "metadata": {},
   "outputs": [],
   "source": [
    "X = casadi.SX.sym(\"x\", (2,3)) #最適化の対象となる変数を定義"
   ]
  },
  {
   "cell_type": "code",
   "execution_count": 4,
   "metadata": {},
   "outputs": [],
   "source": [
    "C = casadi.SX(C) #コスト"
   ]
  },
  {
   "cell_type": "code",
   "execution_count": 5,
   "metadata": {},
   "outputs": [],
   "source": [
    "f = casadi.sum1(casadi.sum2(X*C)) #目的関数\n",
    "#casadi.sum1が列ごとのsum, sum2が行ごとのsum"
   ]
  },
  {
   "cell_type": "code",
   "execution_count": 6,
   "metadata": {},
   "outputs": [],
   "source": [
    "#倉庫と客の制約をひとつのベクトルにconcatする\n",
    "d =casadi.vertcat(casadi.sum1(X).T, casadi.sum2(X))\n",
    "b = casadi.vertcat(supry, demand)\n",
    "g = d-b"
   ]
  },
  {
   "cell_type": "code",
   "execution_count": 7,
   "metadata": {},
   "outputs": [],
   "source": [
    "nlp = {} #変数、目的関数、制約は辞書型で渡す\n",
    "nlp[\"x\"] = X.reshape((-1, 1)) #変数はベクトルで渡さなくてはいけない\n",
    "nlp[\"f\"] = f \n",
    "nlp[\"g\"] = g\n",
    "# reshapeの展開の仕方がnumpyのソレと微妙に違うので注意"
   ]
  },
  {
   "cell_type": "code",
   "execution_count": 8,
   "metadata": {},
   "outputs": [],
   "source": [
    "F = casadi.nlpsol(\"F\", \"ipopt\", nlp) # ファンクションとして登録"
   ]
  },
  {
   "cell_type": "code",
   "execution_count": 9,
   "metadata": {},
   "outputs": [
    {
     "name": "stdout",
     "output_type": "stream",
     "text": [
      "\n",
      "******************************************************************************\n",
      "This program contains Ipopt, a library for large-scale nonlinear optimization.\n",
      " Ipopt is released as open source code under the Eclipse Public License (EPL).\n",
      "         For more information visit http://projects.coin-or.org/Ipopt\n",
      "******************************************************************************\n",
      "\n",
      "This is Ipopt version 3.12.3, running with linear solver mumps.\n",
      "NOTE: Other linear solvers might be more efficient (see Ipopt documentation).\n",
      "\n",
      "Number of nonzeros in equality constraint Jacobian...:       12\n",
      "Number of nonzeros in inequality constraint Jacobian.:        0\n",
      "Number of nonzeros in Lagrangian Hessian.............:        0\n",
      "\n",
      "Total number of variables............................:        6\n",
      "                     variables with only lower bounds:        6\n",
      "                variables with lower and upper bounds:        0\n",
      "                     variables with only upper bounds:        0\n",
      "Total number of equality constraints.................:        5\n",
      "Total number of inequality constraints...............:        0\n",
      "        inequality constraints with only lower bounds:        0\n",
      "   inequality constraints with lower and upper bounds:        0\n",
      "        inequality constraints with only upper bounds:        0\n",
      "\n",
      "iter    objective    inf_pr   inf_du lg(mu)  ||d||  lg(rg) alpha_du alpha_pr  ls\n",
      "   0  2.0999979e-01 9.98e+00 5.00e+00  -1.0 0.00e+00    -  0.00e+00 0.00e+00   0\n",
      "   1  5.5999995e+01 1.83e-06 5.39e+02  -1.0 5.49e+00    -  1.83e-03 1.00e+00h  1\n",
      "   2  5.6000000e+01 8.88e-16 1.00e-06  -1.0 7.31e-02    -  1.00e+00 1.00e+00f  1\n",
      "   3  5.6000000e+01 8.88e-16 2.83e-08  -2.5 1.67e-02    -  1.00e+00 1.00e+00f  1\n",
      "   4  5.6000000e+01 2.02e-12 1.50e-09  -3.8 2.98e-02    -  1.00e+00 1.00e+00f  1\n",
      "   5  5.6000000e+01 1.78e-15 1.90e-11  -5.7 6.53e-03    -  1.00e+00 1.00e+00h  1\n",
      "   6  5.6000000e+01 2.22e-16 3.66e-12  -8.6 7.14e-04    -  1.00e+00 1.00e+00h  1\n",
      "\n",
      "Number of Iterations....: 6\n",
      "\n",
      "                                   (scaled)                 (unscaled)\n",
      "Objective...............:   5.5999999999999993e+01    5.5999999999999993e+01\n",
      "Dual infeasibility......:   3.6580449864837065e-12    3.6580449864837065e-12\n",
      "Constraint violation....:   2.2204460492503131e-16    2.2204460492503131e-16\n",
      "Complementarity.........:   3.3679929367492252e-09    3.3679929367492252e-09\n",
      "Overall NLP error.......:   3.3679929367492252e-09    3.3679929367492252e-09\n",
      "\n",
      "\n",
      "Number of objective function evaluations             = 7\n",
      "Number of objective gradient evaluations             = 7\n",
      "Number of equality constraint evaluations            = 7\n",
      "Number of inequality constraint evaluations          = 0\n",
      "Number of equality constraint Jacobian evaluations   = 7\n",
      "Number of inequality constraint Jacobian evaluations = 0\n",
      "Number of Lagrangian Hessian evaluations             = 6\n",
      "Total CPU secs in IPOPT (w/o function evaluations)   =      0.006\n",
      "Total CPU secs in NLP function evaluations           =      0.000\n",
      "\n",
      "EXIT: Optimal Solution Found.\n",
      "           F  :   t_proc      (avg)   t_wall      (avg)    n_eval\n",
      "       nlp_f  |  49.00us (  7.00us)  48.47us (  6.92us)         7\n",
      "       nlp_g  |  62.00us (  8.86us)  56.01us (  8.00us)         7\n",
      "  nlp_grad_f  |  34.00us (  4.25us)  32.62us (  4.08us)         8\n",
      "  nlp_hess_l  |  16.00us (  2.67us)  16.69us (  2.78us)         6\n",
      "   nlp_jac_g  |  27.00us (  3.37us)  26.89us (  3.36us)         8\n",
      "       total  |   8.84ms (  8.84ms)   7.43ms (  7.43ms)         1\n"
     ]
    }
   ],
   "source": [
    "sol = F(ubg=0,lbg=0, lbx=0)"
   ]
  },
  {
   "cell_type": "code",
   "execution_count": 10,
   "metadata": {},
   "outputs": [
    {
     "data": {
      "text/plain": [
       "{'f': DM(56),\n",
       " 'g': DM([0, 0, -2.22045e-16, 0, 0]),\n",
       " 'lam_g': DM([-37196, -37197, -37198, 37195, 37192]),\n",
       " 'lam_p': DM([]),\n",
       " 'lam_x': DM([-6.51178e-10, -4.07356e-10, -1.13888e-09, -8.95062e-10, -2.63372e-09, -2.3899e-09]),\n",
       " 'x': DM([4.37317, 5.62683, 2.03609, 2.96391, 0.590738, 1.40926])}"
      ]
     },
     "execution_count": 10,
     "metadata": {},
     "output_type": "execute_result"
    }
   ],
   "source": [
    "sol"
   ]
  },
  {
   "cell_type": "code",
   "execution_count": 11,
   "metadata": {},
   "outputs": [
    {
     "data": {
      "text/plain": [
       "SX(\n",
       "[[4.37317, 2.03609, 0.590738], \n",
       " [5.62683, 2.96391, 1.40926]])"
      ]
     },
     "execution_count": 11,
     "metadata": {},
     "output_type": "execute_result"
    }
   ],
   "source": [
    "casadi.SX(sol[\"x\"]).reshape((2,3)) #元の行列の形に直す"
   ]
  },
  {
   "cell_type": "markdown",
   "metadata": {},
   "source": [
    "## 線形ソルバーで解いてみる"
   ]
  },
  {
   "cell_type": "code",
   "execution_count": 12,
   "metadata": {},
   "outputs": [],
   "source": [
    "lp = {} #変数、目的関数、制約は辞書型で渡す\n",
    "lp[\"x\"] = X.reshape((-1, 1)) #変数はベクトルで渡さなくてはいけない\n",
    "lp[\"f\"] = f \n",
    "lp[\"g\"] = g\n",
    "\n",
    "tes = casadi.qpsol(\"F\", \"cbc\", lp) # ファンクションとして登録"
   ]
  },
  {
   "cell_type": "code",
   "execution_count": 13,
   "metadata": {},
   "outputs": [
    {
     "name": "stdout",
     "output_type": "stream",
     "text": [
      "Welcome to the CBC MILP Solver \n",
      "Version: 2.9.6 \n",
      "Build Date: Aug  7 2018 \n",
      "\n",
      "command line - CbcInterface -solve -quit (default strategy 1)\n",
      "Presolve 0 (-5) rows, 0 (-6) columns and 0 (-12) elements\n",
      "Empty problem - 0 rows, 0 columns and 0 elements\n",
      "Optimal - objective value 56\n",
      "After Postsolve, objective 56, infeasibilities - dual 0 (0), primal 0 (0)\n",
      "Optimal objective 56 - 0 iterations time 0.002, Presolve 0.00\n",
      "Total time (CPU seconds):       0.00   (Wallclock seconds):       0.00\n",
      "\n"
     ]
    }
   ],
   "source": [
    "sol_tes = tes(ubg=0,lbg=0, lbx=0)"
   ]
  },
  {
   "cell_type": "code",
   "execution_count": 14,
   "metadata": {},
   "outputs": [
    {
     "data": {
      "text/plain": [
       "{'f': DM(56),\n",
       " 'g': DM([0, 0, 0, 0, 0]),\n",
       " 'lam_g': DM([-4, -5, -6, 3, -0]),\n",
       " 'lam_p': DM([]),\n",
       " 'lam_x': DM([-0, -0, -0, -0, -0, -0]),\n",
       " 'x': DM([7, 3, 0, 5, 0, 2])}"
      ]
     },
     "execution_count": 14,
     "metadata": {},
     "output_type": "execute_result"
    }
   ],
   "source": [
    "sol_tes"
   ]
  },
  {
   "cell_type": "markdown",
   "metadata": {},
   "source": [
    "# 例2\n",
    "- https://www.msi.co.jp/nuopt/docs/v19/examples/html/02-02-00.html"
   ]
  },
  {
   "cell_type": "code",
   "execution_count": 15,
   "metadata": {},
   "outputs": [],
   "source": [
    "supry = np.array([250,450]) # 倉庫の方の供給\n",
    "demand = np.array([200,200,200]) # 客の方の需要\n",
    "C = np.array([[3.4,2.2], [2.9, 3.4], [2.4, 2.5]]) "
   ]
  },
  {
   "cell_type": "code",
   "execution_count": 16,
   "metadata": {},
   "outputs": [],
   "source": [
    "X = casadi.SX.sym(\"x\", (3,2))\n",
    "C = casadi.SX(C)"
   ]
  },
  {
   "cell_type": "code",
   "execution_count": 17,
   "metadata": {},
   "outputs": [],
   "source": [
    "f = casadi.sum1(casadi.sum2(X*C))"
   ]
  },
  {
   "cell_type": "code",
   "execution_count": 20,
   "metadata": {},
   "outputs": [],
   "source": [
    "d =casadi.vertcat(casadi.sum1(X).T, casadi.sum2(X), -1*casadi.sum2(X)) #等式制約のために-1かけて増やす\n",
    "b = casadi.vertcat(supry, demand, -1*demand)"
   ]
  },
  {
   "cell_type": "code",
   "execution_count": 22,
   "metadata": {},
   "outputs": [],
   "source": [
    "g = d-b"
   ]
  },
  {
   "cell_type": "code",
   "execution_count": 24,
   "metadata": {},
   "outputs": [],
   "source": [
    "nlp = {} #変数、目的関数、制約は辞書型で渡す\n",
    "nlp[\"x\"] = X.reshape((-1, 1))\n",
    "nlp[\"f\"] = f \n",
    "nlp[\"g\"] = g"
   ]
  },
  {
   "cell_type": "code",
   "execution_count": 25,
   "metadata": {},
   "outputs": [
    {
     "name": "stdout",
     "output_type": "stream",
     "text": [
      "This is Ipopt version 3.12.3, running with linear solver mumps.\n",
      "NOTE: Other linear solvers might be more efficient (see Ipopt documentation).\n",
      "\n",
      "Number of nonzeros in equality constraint Jacobian...:        0\n",
      "Number of nonzeros in inequality constraint Jacobian.:       18\n",
      "Number of nonzeros in Lagrangian Hessian.............:        0\n",
      "\n",
      "Total number of variables............................:        6\n",
      "                     variables with only lower bounds:        6\n",
      "                variables with lower and upper bounds:        0\n",
      "                     variables with only upper bounds:        0\n",
      "Total number of equality constraints.................:        0\n",
      "Total number of inequality constraints...............:        8\n",
      "        inequality constraints with only lower bounds:        0\n",
      "   inequality constraints with lower and upper bounds:        0\n",
      "        inequality constraints with only upper bounds:        8\n",
      "\n",
      "iter    objective    inf_pr   inf_du lg(mu)  ||d||  lg(rg) alpha_du alpha_pr  ls\n",
      "   0  1.6799983e-01 2.00e+02 1.12e+00  -1.0 0.00e+00    -  0.00e+00 0.00e+00   0\n",
      "   1  3.3470988e-01 2.00e+02 1.12e+00  -1.0 2.00e+02    -  1.49e-04 1.49e-04h  1\n",
      "   2  1.3987685e+03 3.31e+01 4.09e+01  -1.0 3.03e+02    -  2.12e-04 8.34e-01h  1\n",
      "   3  1.2719887e+03 3.31e+01 4.09e+01  -1.0 1.04e+05    -  8.26e-04 7.73e-04f  1\n",
      "   4  1.2663833e+03 3.31e+01 4.09e+01  -1.0 1.10e+04    -  5.90e-03 1.10e-03f  1\n",
      "   5  1.2622522e+03 3.29e+01 4.02e+01  -1.0 2.40e+03    -  1.74e-01 6.22e-03f  1\n",
      "   6  1.5129977e+03 3.40e-01 4.09e-01  -1.0 9.73e+01    -  1.00e+00 9.89e-01h  1\n",
      "   7  1.5152845e+03 8.92e-03 4.26e-02  -1.0 1.12e+00    -  1.00e+00 9.13e-01h  1\n",
      "   8  1.5150885e+03 7.89e-03 5.53e-01  -1.7 8.43e-01    -  1.00e+00 7.31e-01h  1\n",
      "   9  1.5150797e+03 8.70e-04 1.53e+00  -1.7 2.83e-01    -  1.00e+00 6.94e-01h  1\n",
      "iter    objective    inf_pr   inf_du lg(mu)  ||d||  lg(rg) alpha_du alpha_pr  ls\n",
      "  10  1.5150721e+03 8.30e-04 1.48e+01  -1.7 8.99e-02    -  1.00e+00 2.43e-01f  2\n",
      "  11  1.5150609e+03 2.94e-04 5.87e+00  -1.7 6.54e-02    -  1.00e+00 8.38e-01h  1\n",
      "  12  1.5150611e+03 1.49e-04 1.05e+02  -1.7 1.06e-02    -  1.00e+00 2.18e-01f  2\n",
      "  13  1.5150602e+03 1.23e-05 4.44e+01  -1.7 8.28e-03    -  1.00e+00 8.37e-01h  1\n",
      "  14  1.5150601e+03 1.42e-05 8.53e+02  -1.7 1.45e-03    -  1.00e+00 2.03e-01f  2\n",
      "  15  1.5150599e+03 4.55e-06 3.25e+02  -1.7 1.08e-03    -  1.00e+00 8.48e-01h  1\n",
      "  16  1.5150599e+03 2.29e-06 6.99e+03  -1.7 1.64e-04    -  1.00e+00 1.97e-01f  2\n",
      "  17  1.5150599e+03 1.59e-07 2.50e+03  -1.7 1.32e-04    -  1.00e+00 8.56e-01h  1\n",
      "  18  1.5150599e+03 1.96e-07 5.68e+04  -1.7 1.94e-05    -  1.00e+00 2.12e-01f  2\n",
      "  19  1.5150599e+03 3.63e-08 2.00e-07  -1.7 1.49e-05    -  1.00e+00 1.00e+00f  1\n",
      "iter    objective    inf_pr   inf_du lg(mu)  ||d||  lg(rg) alpha_du alpha_pr  ls\n",
      "  20  1.5150001e+03 0.00e+00 7.47e-02  -5.7 1.98e-01    -  9.97e-01 1.00e+00f  1\n",
      "  21  1.5150000e+03 0.00e+00 7.23e+05  -5.7 1.01e-03    -  4.52e-02 1.00e+00f  1\n",
      "  22  1.5150000e+03 0.00e+00 6.83e+05  -5.7 7.11e-08    -  1.00e+00 5.57e-02h  3\n",
      "  23  1.5150000e+03 0.00e+00 7.77e-11  -5.7 6.87e-09    -  1.00e+00 1.00e+00h  1\n",
      "  24  1.5150000e+03 0.00e+00 1.22e+00  -8.6 1.84e-05    -  9.93e-01 1.00e+00f  1\n",
      "  25  1.5150000e+03 0.00e+00 3.05e-02  -8.6 2.53e-08    -  9.26e-01 1.00e+00h  1\n",
      "  26  1.5150000e+03 0.00e+00 2.53e-14  -8.6 1.58e-09    -  1.00e+00 1.00e+00h  1\n",
      "\n",
      "Number of Iterations....: 26\n",
      "\n",
      "                                   (scaled)                 (unscaled)\n",
      "Objective...............:   1.5149999999193201e+03    1.5149999999193201e+03\n",
      "Dual infeasibility......:   2.5313084961453569e-14    2.5313084961453569e-14\n",
      "Constraint violation....:   0.0000000000000000e+00    0.0000000000000000e+00\n",
      "Complementarity.........:   2.7333820234009215e-09    2.7333820234009215e-09\n",
      "Overall NLP error.......:   2.7333820234009215e-09    2.7333820234009215e-09\n",
      "\n",
      "\n",
      "Number of objective function evaluations             = 35\n",
      "Number of objective gradient evaluations             = 27\n",
      "Number of equality constraint evaluations            = 0\n",
      "Number of inequality constraint evaluations          = 35\n",
      "Number of equality constraint Jacobian evaluations   = 0\n",
      "Number of inequality constraint Jacobian evaluations = 27\n",
      "Number of Lagrangian Hessian evaluations             = 26\n",
      "Total CPU secs in IPOPT (w/o function evaluations)   =      0.005\n",
      "Total CPU secs in NLP function evaluations           =      0.000\n",
      "\n",
      "EXIT: Optimal Solution Found.\n",
      "           F  :   t_proc      (avg)   t_wall      (avg)    n_eval\n",
      "       nlp_f  |  81.00us (  2.31us)  76.76us (  2.19us)        35\n",
      "       nlp_g  | 154.00us (  4.40us) 122.58us (  3.50us)        35\n",
      "  nlp_grad_f  |  69.00us (  2.46us)  68.03us (  2.43us)        28\n",
      "  nlp_hess_l  |  45.00us (  1.73us)  48.05us (  1.85us)        26\n",
      "   nlp_jac_g  |  67.00us (  2.39us)  65.65us (  2.34us)        28\n",
      "       total  |  12.20ms ( 12.20ms)  10.89ms ( 10.89ms)         1\n"
     ]
    }
   ],
   "source": [
    "F = casadi.nlpsol(\"F\", \"ipopt\", nlp) \n",
    "sol = F(ubg=0, lbx=0) #等式制約を不等式制約に変換してる"
   ]
  },
  {
   "cell_type": "code",
   "execution_count": 26,
   "metadata": {},
   "outputs": [
    {
     "data": {
      "text/plain": [
       "DM([0, 200, 50, 200, 0, 150])"
      ]
     },
     "execution_count": 26,
     "metadata": {},
     "output_type": "execute_result"
    }
   ],
   "source": [
    "sol[\"x\"]"
   ]
  },
  {
   "cell_type": "code",
   "execution_count": 27,
   "metadata": {},
   "outputs": [
    {
     "data": {
      "text/plain": [
       "{'f': DM(1515),\n",
       " 'g': DM([-1.5059e-08, -100, -9.02784e-09, -9.22273e-09, -9.06721e-09, 9.02784e-09, 9.22273e-09, 9.06721e-09]),\n",
       " 'lam_g': DM([0.1, 2.5034e-11, 0.143652, 0.133999, 0.133992, 2.34365, 3.134, 2.63399]),\n",
       " 'lam_p': DM([]),\n",
       " 'lam_x': DM([-1.3, -1.25295e-11, -5.01181e-11, -1.25295e-11, -0.4, -1.6706e-11]),\n",
       " 'x': DM([0, 200, 50, 200, 0, 150])}"
      ]
     },
     "execution_count": 27,
     "metadata": {},
     "output_type": "execute_result"
    }
   ],
   "source": [
    "sol"
   ]
  },
  {
   "cell_type": "code",
   "execution_count": 28,
   "metadata": {},
   "outputs": [
    {
     "data": {
      "text/plain": [
       "SX(@1=0, \n",
       "[[@1, 200], \n",
       " [200, @1], \n",
       " [50, 150]])"
      ]
     },
     "execution_count": 28,
     "metadata": {},
     "output_type": "execute_result"
    }
   ],
   "source": [
    "casadi.SX(sol[\"x\"]).reshape((3,2))"
   ]
  },
  {
   "cell_type": "markdown",
   "metadata": {},
   "source": [
    "## 同じくCBCで解く"
   ]
  },
  {
   "cell_type": "code",
   "execution_count": 29,
   "metadata": {},
   "outputs": [],
   "source": [
    "lp = {}\n",
    "lp[\"x\"] = X.reshape((-1, 1)) # 複数変数がある場合はcasadi.vertcat()関数を使ってひとつの構造体にする\n",
    "lp[\"f\"] = f \n",
    "lp[\"g\"] = g"
   ]
  },
  {
   "cell_type": "code",
   "execution_count": 30,
   "metadata": {},
   "outputs": [
    {
     "name": "stdout",
     "output_type": "stream",
     "text": [
      "Welcome to the CBC MILP Solver \n",
      "Version: 2.9.6 \n",
      "Build Date: Aug  7 2018 \n",
      "\n",
      "command line - CbcInterface -solve -quit (default strategy 1)\n",
      "Presolve 8 (0) rows, 6 (0) columns and 18 (0) elements\n",
      "0  Obj 0 Primal inf 600 (3)\n",
      "4  Obj 1515\n",
      "Optimal - objective value 1515\n",
      "Optimal objective 1515 - 4 iterations time 0.002\n",
      "Total time (CPU seconds):       0.00   (Wallclock seconds):       0.00\n",
      "\n"
     ]
    }
   ],
   "source": [
    "F = casadi.qpsol(\"F\", \"cbc\", lp) # ファンクションとして登録\n",
    "sol = F(ubg=0, lbx=0) #等式制約を不等式制約に変換してる"
   ]
  },
  {
   "cell_type": "code",
   "execution_count": 31,
   "metadata": {},
   "outputs": [
    {
     "name": "stdout",
     "output_type": "stream",
     "text": [
      "目的関数：1515\n",
      "変数：@1=0, @2=200, \n",
      "[[@1, 50, @1], \n",
      " [@2, @2, 150]]\n"
     ]
    }
   ],
   "source": [
    "print(\"目的関数：{}\".format(sol[\"f\"]))\n",
    "print(\"変数：{}\".format(casadi.SX(sol[\"x\"]).reshape((2,3))))"
   ]
  },
  {
   "cell_type": "code",
   "execution_count": null,
   "metadata": {},
   "outputs": [],
   "source": []
  },
  {
   "cell_type": "markdown",
   "metadata": {},
   "source": [
    "- 使えるソルバーっっぽいもの一覧\n",
    "    - `l /home/inoma/.pyenv/versions/anaconda3-5.2.0/lib/python3.6/site-packages/casadi/`"
   ]
  },
  {
   "cell_type": "code",
   "execution_count": null,
   "metadata": {},
   "outputs": [],
   "source": []
  }
 ],
 "metadata": {
  "kernelspec": {
   "display_name": "Python 3",
   "language": "python",
   "name": "python3"
  },
  "language_info": {
   "codemirror_mode": {
    "name": "ipython",
    "version": 3
   },
   "file_extension": ".py",
   "mimetype": "text/x-python",
   "name": "python",
   "nbconvert_exporter": "python",
   "pygments_lexer": "ipython3",
   "version": "3.6.5"
  }
 },
 "nbformat": 4,
 "nbformat_minor": 2
}
