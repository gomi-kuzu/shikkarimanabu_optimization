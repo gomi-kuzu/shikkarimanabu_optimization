{
 "cells": [
  {
   "cell_type": "markdown",
   "id": "f54aefea",
   "metadata": {},
   "source": [
    "4.3.2 動的計画法\n",
    "===\n",
    "- なんとなく、numpy等使わずに実装してみる"
   ]
  },
  {
   "cell_type": "code",
   "execution_count": 5,
   "id": "05e8461a",
   "metadata": {},
   "outputs": [],
   "source": [
    "def dynamic_programing_for_knapsack_problem(obj_name_list, obj_value_list, obj_weight_list, sack_capacity):\n",
    "    #init\n",
    "    value_table = []\n",
    "    for i in range(len(obj_name_list)):\n",
    "        low = []\n",
    "        for j in range(nap_capacity+1):\n",
    "            low.append([0]*(len(obj_name_list)+1))\n",
    "        value_table.append(low)\n",
    "\n",
    "    #k=1\n",
    "    for u in range(sack_capacity+1):\n",
    "        if obj_weight_list[0] > u:\n",
    "            pass\n",
    "        else:\n",
    "            value_table[0][u][0] = 1\n",
    "            value_table[0][u][-1] = obj_value_list[0]\n",
    "\n",
    "    for k in range(1, len(obj_name_list)):\n",
    "        for u in range(sack_capacity+1):\n",
    "            if obj_weight_list[k] > u:\n",
    "                value_table[k][u] = value_table[k-1][u]\n",
    "            else:\n",
    "                f = value_table[k-1][u-obj_weight_list[k]][-1] + obj_value_list[k]\n",
    "                if value_table[k-1][u][-1] >= f:\n",
    "                    value_table[k][u] = value_table[k-1][u]\n",
    "                else:\n",
    "                    tmp = value_table[k-1][u-obj_weight_list[k]][:-1]\n",
    "                    tmp[k] = 1\n",
    "                    tmp = tmp + [f]\n",
    "                    value_table[k][u] = tmp\n",
    "    \n",
    "    return value_table"
   ]
  },
  {
   "cell_type": "code",
   "execution_count": 6,
   "id": "bbffe1c5",
   "metadata": {},
   "outputs": [],
   "source": [
    "obj_name_list = [\"a\", \"b\", \"c\", \"d\"]\n",
    "obj_value_list = [16, 19, 23, 28]\n",
    "obj_weight_list = [2, 3, 4, 5]\n",
    "sack_capacity = 7"
   ]
  },
  {
   "cell_type": "code",
   "execution_count": 8,
   "id": "30251656",
   "metadata": {},
   "outputs": [
    {
     "data": {
      "text/plain": [
       "[[[0, 0, 0, 0, 0],\n",
       "  [0, 0, 0, 0, 0],\n",
       "  [1, 0, 0, 0, 16],\n",
       "  [1, 0, 0, 0, 16],\n",
       "  [1, 0, 0, 0, 16],\n",
       "  [1, 0, 0, 0, 16],\n",
       "  [1, 0, 0, 0, 16],\n",
       "  [1, 0, 0, 0, 16]],\n",
       " [[0, 0, 0, 0, 0],\n",
       "  [0, 0, 0, 0, 0],\n",
       "  [1, 0, 0, 0, 16],\n",
       "  [0, 1, 0, 0, 19],\n",
       "  [0, 1, 0, 0, 19],\n",
       "  [1, 1, 0, 0, 35],\n",
       "  [1, 1, 0, 0, 35],\n",
       "  [1, 1, 0, 0, 35]],\n",
       " [[0, 0, 0, 0, 0],\n",
       "  [0, 0, 0, 0, 0],\n",
       "  [1, 0, 0, 0, 16],\n",
       "  [0, 1, 0, 0, 19],\n",
       "  [0, 0, 1, 0, 23],\n",
       "  [1, 1, 0, 0, 35],\n",
       "  [1, 0, 1, 0, 39],\n",
       "  [0, 1, 1, 0, 42]],\n",
       " [[0, 0, 0, 0, 0],\n",
       "  [0, 0, 0, 0, 0],\n",
       "  [1, 0, 0, 0, 16],\n",
       "  [0, 1, 0, 0, 19],\n",
       "  [0, 0, 1, 0, 23],\n",
       "  [1, 1, 0, 0, 35],\n",
       "  [1, 0, 1, 0, 39],\n",
       "  [1, 0, 0, 1, 44]]]"
      ]
     },
     "execution_count": 8,
     "metadata": {},
     "output_type": "execute_result"
    }
   ],
   "source": [
    "dynamic_programing_for_knapsack_problem(obj_name_list, obj_value_list, obj_weight_list, sack_capacity)"
   ]
  },
  {
   "cell_type": "code",
   "execution_count": null,
   "id": "6253a1c5",
   "metadata": {},
   "outputs": [],
   "source": []
  }
 ],
 "metadata": {
  "kernelspec": {
   "display_name": "Python 3 (ipykernel)",
   "language": "python",
   "name": "python3"
  },
  "language_info": {
   "codemirror_mode": {
    "name": "ipython",
    "version": 3
   },
   "file_extension": ".py",
   "mimetype": "text/x-python",
   "name": "python",
   "nbconvert_exporter": "python",
   "pygments_lexer": "ipython3",
   "version": "3.7.0"
  }
 },
 "nbformat": 4,
 "nbformat_minor": 5
}
